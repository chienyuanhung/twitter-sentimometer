{
 "cells": [
  {
   "cell_type": "markdown",
   "metadata": {},
   "source": [
    "# Function to Scrape Latest Tweets and Show Top 10 Words appeared in it\n",
    "\n",
    "## To run this function you need to set 2 variables:\n",
    "\n",
    "Tweeter_Scraper_and_Top_10_Words(\"what you want to search\", amount of tweets you would like to scrape)\n",
    "\n"
   ]
  },
  {
   "cell_type": "code",
   "execution_count": 31,
   "metadata": {},
   "outputs": [
    {
     "name": "stderr",
     "output_type": "stream",
     "text": [
      "[nltk_data] Downloading package stopwords to\n",
      "[nltk_data]     C:\\Users\\YARA\\AppData\\Roaming\\nltk_data...\n",
      "[nltk_data]   Package stopwords is already up-to-date!\n"
     ]
    }
   ],
   "source": [
    "# Import dependencies\n",
    "\n",
    "from twitterscraper import query_tweets\n",
    "import datetime as dt\n",
    "import pandas as pd\n",
    "from datetime import date, timedelta\n",
    "import nltk\n",
    "from nltk.corpus import stopwords\n",
    "nltk.download('stopwords')\n",
    "from collections import Counter\n",
    "from nltk.tokenize import RegexpTokenizer\n",
    "tokenizer = RegexpTokenizer(r'\\w+')\n",
    "import matplotlib.pyplot as plt\n",
    "import numpy as np\n",
    "%matplotlib inline"
   ]
  },
  {
   "cell_type": "code",
   "execution_count": 32,
   "metadata": {},
   "outputs": [],
   "source": [
    "def Tweeter_Scraper_and_Top_10_Words(input_result, limit_result):\n",
    "    \n",
    "    today = date.today()\n",
    "    yesterday = today - timedelta(days = 1)\n",
    "    tommorow = today + timedelta(days = 1)\n",
    "    aftertommorow = tommorow + timedelta(days = 1)\n",
    "\n",
    "    begin_date = tommorow\n",
    "    end_date = aftertommorow\n",
    "\n",
    "    lang = \"en\"\n",
    "\n",
    "    tweets = query_tweets(input_result, begindate = begin_date, enddate = end_date, limit = limit_result-20, lang = lang)\n",
    "\n",
    "    df = pd.DataFrame(tweet.__dict__ for tweet in tweets)\n",
    "    updated_df = df[[\"text\"]]\n",
    "\n",
    "    cleaned = updated_df.text.apply(lambda x: tokenizer.tokenize(x.lower()))\n",
    "\n",
    "    total_words = []\n",
    "\n",
    "    for sentences in cleaned:\n",
    "        for word in sentences:\n",
    "            total_words.append(word)\n",
    "\n",
    "    \n",
    "    filtered_words = [word for word in total_words if word not in stopwords.words('english')]\n",
    "    other_stop_words = [\"com\", \"u\", \"us\", \"pic\", \"twitter\", \"www\", \"vs\", \"http\", \"status\",\"https\", \"0\", \"1\", \"2\", \"3\", \"4\", \"5\", \"6\", \"7\", \"8\", \"9\"]\n",
    "    final_filtered_words = [word for word in filtered_words if word not in other_stop_words]\n",
    "\n",
    "    word_counter = Counter(final_filtered_words).most_common(10)    \n",
    "    normalized_data = list(zip(*word_counter))\n",
    "      \n",
    "    plt.figure(figsize = (20, 12))\n",
    "\n",
    "    tweets = normalized_data[0]\n",
    "    amount_of_tweets = normalized_data[1]\n",
    "\n",
    "    plt.bar(tweets, amount_of_tweets, color = \"blue\", alpha = 0.5, align = \"center\")\n",
    "\n",
    "    tick_locations = [value for value in tweets]\n",
    "    plt.xticks(tick_locations, rotation = 0, size = 20)\n",
    "\n",
    "    plt.xlim(-0.75, len(tweets) - 0.25)\n",
    "    plt.ylim(0, max(amount_of_tweets) + 0.1*(max(amount_of_tweets)))\n",
    "\n",
    "    plt.title(f\"Most Common Words in {limit_result} Tweets about '{input_result.title()}'\", size = 25).set_position([.5, 1.05])\n",
    "    plt.xlabel(\"Words from Tweets\", size = 25, labelpad=35)\n",
    "    plt.ylabel(f\"Number of times the word appears in {limit_result} Tweets\", size = 25, labelpad=35)\n",
    "\n",
    "    for a,b in zip(tweets, amount_of_tweets):\n",
    "        plt.text(a, b + 0.05*(b), str(b), size = 18, ha = \"center\")\n",
    "\n",
    "    plt.show()"
   ]
  },
  {
   "cell_type": "code",
   "execution_count": null,
   "metadata": {},
   "outputs": [],
   "source": [
    "Tweeter_Scraper_and_Top_10_Words(\"Soccer\", 1000)"
   ]
  },
  {
   "cell_type": "code",
   "execution_count": null,
   "metadata": {},
   "outputs": [],
   "source": []
  }
 ],
 "metadata": {
  "kernelspec": {
   "display_name": "Python [conda env:PythonData] *",
   "language": "python",
   "name": "conda-env-PythonData-py"
  },
  "language_info": {
   "codemirror_mode": {
    "name": "ipython",
    "version": 3
   },
   "file_extension": ".py",
   "mimetype": "text/x-python",
   "name": "python",
   "nbconvert_exporter": "python",
   "pygments_lexer": "ipython3",
   "version": "3.6.8"
  }
 },
 "nbformat": 4,
 "nbformat_minor": 2
}
