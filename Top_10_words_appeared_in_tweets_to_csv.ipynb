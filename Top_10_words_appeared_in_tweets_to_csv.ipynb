{
 "cells": [
  {
   "cell_type": "code",
   "execution_count": 1,
   "metadata": {},
   "outputs": [],
   "source": [
    "def Top_10_words_arreared_in(input_result, limit_result):\n",
    "    \n",
    "    # Import dependencies\n",
    "\n",
    "    from twitterscraper import query_tweets\n",
    "    import datetime as dt\n",
    "    import pandas as pd\n",
    "    from datetime import date, timedelta\n",
    "    import nltk\n",
    "    from nltk.corpus import stopwords\n",
    "    nltk.download('stopwords')\n",
    "    from collections import Counter\n",
    "    from nltk.tokenize import RegexpTokenizer\n",
    "    tokenizer = RegexpTokenizer(r'\\w+')\n",
    "    import matplotlib.pyplot as plt\n",
    "    import numpy as np\n",
    "    %matplotlib inline\n",
    "    import csv\n",
    "    \n",
    "    today = date.today()\n",
    "    yesterday = today - timedelta(days = 1)\n",
    "    tommorow = today + timedelta(days = 1)\n",
    "    aftertommorow = tommorow + timedelta(days = 1)\n",
    "\n",
    "    begin_date = today\n",
    "    end_date = tommorow\n",
    "\n",
    "    lang = \"en\"\n",
    "\n",
    "    tweets = query_tweets(input_result, begindate = begin_date, enddate = end_date, limit = limit_result-20, lang = lang)\n",
    "\n",
    "    df = pd.DataFrame(tweet.__dict__ for tweet in tweets)\n",
    "    updated_df = df[[\"text\"]]\n",
    "\n",
    "    cleaned = updated_df.text.apply(lambda x: tokenizer.tokenize(x.lower()))\n",
    "\n",
    "    total_words = []\n",
    "\n",
    "    for sentences in cleaned:\n",
    "        for word in sentences:\n",
    "            total_words.append(word)\n",
    "\n",
    "    \n",
    "    filtered_words = [word for word in total_words if word not in stopwords.words('english')]\n",
    "    other_stop_words = [\"com\", \"u\", \"us\", \"pic\", \"twitter\", \"www\", \"vs\", \"http\", \"status\",\"https\", \"0\", \"1\", \"2\", \"3\", \"4\", \"5\", \"6\", \"7\", \"8\", \"9\"]\n",
    "    final_filtered_words = [word for word in filtered_words if word not in other_stop_words]\n",
    "\n",
    "    word_counter = Counter(final_filtered_words).most_common(10)    \n",
    "    normalized_data = list(zip(*word_counter))\n",
    "    \n",
    "    final_data = pd.DataFrame(normalized_data).T\n",
    "    \n",
    "    final_data.to_csv(f\"{input_result}.csv\", index = False, header = True)"
   ]
  },
  {
   "cell_type": "code",
   "execution_count": null,
   "metadata": {},
   "outputs": [],
   "source": [
    "Top_10_words_arreared_in(\"soccer\", 100)"
   ]
  }
 ],
 "metadata": {
  "kernelspec": {
   "display_name": "Python [conda env:PythonData] *",
   "language": "python",
   "name": "conda-env-PythonData-py"
  },
  "language_info": {
   "codemirror_mode": {
    "name": "ipython",
    "version": 3
   },
   "file_extension": ".py",
   "mimetype": "text/x-python",
   "name": "python",
   "nbconvert_exporter": "python",
   "pygments_lexer": "ipython3",
   "version": "3.6.8"
  }
 },
 "nbformat": 4,
 "nbformat_minor": 2
}
